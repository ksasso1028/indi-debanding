{
 "cells": [
  {
   "cell_type": "code",
   "execution_count": 4,
   "id": "db373483-394d-4d46-8638-95d97ec7fe00",
   "metadata": {},
   "outputs": [],
   "source": [
    "import sys\n",
    "import os\n",
    "# Add the parent directory to sys.path\n",
    "parent_dir = os.path.abspath(os.path.join(os.getcwd(), '..'))\n",
    "if parent_dir not in sys.path:\n",
    "    sys.path.append(parent_dir)\n",
    "import pandas as pd\n",
    "from utils import get_files, train_split\n",
    "from utils import display"
   ]
  },
  {
   "cell_type": "code",
   "execution_count": 5,
   "id": "3985ee30-2827-48f7-8c9d-574b3cf7f53b",
   "metadata": {},
   "outputs": [],
   "source": [
    "banded = \"D:/HD_images_dataset_size_1920x1080/Quantized Images with XML files for Banded and Non Banded regions/\"\n",
    "pristine = \"D:/HD_images_dataset_size_1920x1080/Original Images/\""
   ]
  },
  {
   "cell_type": "code",
   "execution_count": 6,
   "id": "9c3282c9-3095-4a85-9b9a-8e7f377b8b6e",
   "metadata": {},
   "outputs": [
    {
     "name": "stdout",
     "output_type": "stream",
     "text": [
      "1440\n",
      "1440\n",
      "dry       D:\\HD_images_dataset_size_1920x1080\\Original I...\n",
      "banded    D:\\HD_images_dataset_size_1920x1080\\Quantized ...\n",
      "Name: 0, dtype: object\n",
      "1224\n",
      "216\n"
     ]
    }
   ],
   "source": [
    "all_pristine = get_files(pristine, \"dry\", \"image\")\n",
    "all_banded = get_files(banded, \"banded\", \"image\")\n",
    "print(len(all_pristine))\n",
    "print(len(all_banded))\n",
    "\n",
    "all_pristine[\"banded\"] = all_banded[\"banded\"].tolist()\n",
    "print(all_pristine.iloc[0])\n",
    "\n",
    "train, test = train_split(all_pristine)\n",
    "\n",
    "train.to_csv(\"banded-train.csv\", index=False)\n",
    "test.to_csv(\"banded-test.csv\", index=False)\n",
    "print(len(train))\n",
    "print(len(test))"
   ]
  },
  {
   "cell_type": "code",
   "execution_count": null,
   "id": "29ae8ed8-3358-44b0-8702-30e2144dbe31",
   "metadata": {},
   "outputs": [],
   "source": [
    "ima"
   ]
  }
 ],
 "metadata": {
  "kernelspec": {
   "display_name": "Python 3 (ipykernel)",
   "language": "python",
   "name": "python3"
  },
  "language_info": {
   "codemirror_mode": {
    "name": "ipython",
    "version": 3
   },
   "file_extension": ".py",
   "mimetype": "text/x-python",
   "name": "python",
   "nbconvert_exporter": "python",
   "pygments_lexer": "ipython3",
   "version": "3.12.3"
  }
 },
 "nbformat": 4,
 "nbformat_minor": 5
}
